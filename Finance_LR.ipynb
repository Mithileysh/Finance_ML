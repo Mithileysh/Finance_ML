{
 "cells": [
  {
   "cell_type": "code",
   "execution_count": 47,
   "metadata": {
    "collapsed": false
   },
   "outputs": [],
   "source": [
    "from sklearn import datasets\n",
    "from sklearn.cross_validation import cross_val_score\n",
    "from sklearn.cross_validation import cross_val_predict\n",
    "from sklearn import linear_model\n",
    "import matplotlib.pyplot as plt\n",
    "from sklearn import cross_validation\n",
    "from sklearn.cross_validation import KFold\n",
    "import numpy as np\n",
    "import pandas as p\n",
    "from sklearn import metrics \n",
    "from sklearn.metrics import mean_squared_error\n",
    "#data='/Users/rohit/Downloads/final_finane.csv'\n",
    "data='/Users/rohit/Downloads/guid_02.csv'\n",
    "\n",
    "\n",
    "df=p.read_csv(data)\n",
    "df.rename(columns={'Change%': 'Change'}, inplace=True)\n",
    "\n",
    "df.head(5)\n",
    "del df['Market']\n",
    "del df['Date']\n"
   ]
  },
  {
   "cell_type": "code",
   "execution_count": 48,
   "metadata": {
    "collapsed": false
   },
   "outputs": [],
   "source": [
    "import numpy as np; np.random.seed(0)\n",
    "import seaborn as sns; sns.set()\n",
    "import matplotlib.pyplot as plt\n",
    "corr=df.corr()\n",
    "sns.heatmap(corr, annot=True)\n",
    "plt.savefig(\"abc.png\")"
   ]
  },
  {
   "cell_type": "code",
   "execution_count": 49,
   "metadata": {
    "collapsed": false
   },
   "outputs": [],
   "source": [
    "# Prediction for the next day Closing stock value :\n",
    "Y=df.Close\n",
    "del df['Close']\n",
    "del df['Volume']\n",
    "del df['Change']"
   ]
  },
  {
   "cell_type": "code",
   "execution_count": 50,
   "metadata": {
    "collapsed": false
   },
   "outputs": [
    {
     "data": {
      "text/html": [
       "<div>\n",
       "<table border=\"1\" class=\"dataframe\">\n",
       "  <thead>\n",
       "    <tr style=\"text-align: right;\">\n",
       "      <th></th>\n",
       "      <th>Open</th>\n",
       "      <th>High</th>\n",
       "      <th>Low</th>\n",
       "      <th>Adj Close</th>\n",
       "    </tr>\n",
       "  </thead>\n",
       "  <tbody>\n",
       "    <tr>\n",
       "      <th>0</th>\n",
       "      <td>109.809998</td>\n",
       "      <td>110.349998</td>\n",
       "      <td>108.830002</td>\n",
       "      <td>109.949997</td>\n",
       "    </tr>\n",
       "    <tr>\n",
       "      <th>1</th>\n",
       "      <td>106.699997</td>\n",
       "      <td>110.230003</td>\n",
       "      <td>106.599998</td>\n",
       "      <td>109.989998</td>\n",
       "    </tr>\n",
       "  </tbody>\n",
       "</table>\n",
       "</div>"
      ],
      "text/plain": [
       "         Open        High         Low   Adj Close\n",
       "0  109.809998  110.349998  108.830002  109.949997\n",
       "1  106.699997  110.230003  106.599998  109.989998"
      ]
     },
     "execution_count": 50,
     "metadata": {},
     "output_type": "execute_result"
    }
   ],
   "source": [
    "df.head(2)"
   ]
  },
  {
   "cell_type": "code",
   "execution_count": 51,
   "metadata": {
    "collapsed": false
   },
   "outputs": [
    {
     "name": "stdout",
     "output_type": "stream",
     "text": [
      "sklearn.cross_validation.KFold(n=223, n_folds=10, shuffle=True, random_state=4)\n"
     ]
    }
   ],
   "source": [
    "kf_total = cross_validation.KFold(len(df), n_folds=10, shuffle=True,random_state=4)\n",
    "kf_total\n",
    "from sklearn.metrics import accuracy_score\n",
    "from sklearn.metrics import median_absolute_error\n",
    "from sklearn.metrics import mean_squared_error\n",
    "from sklearn.metrics import r2_score\n",
    "from math import sqrt\n",
    "import datetime\n",
    "import time\n",
    "kf_dict=[]\n",
    "testMse=[]\n",
    "fold=0\n",
    "print (kf_total)"
   ]
  },
  {
   "cell_type": "code",
   "execution_count": 52,
   "metadata": {
    "collapsed": false
   },
   "outputs": [
    {
     "name": "stdout",
     "output_type": "stream",
     "text": [
      "0.47415144159370093\n",
      "0.3069113362103278\n",
      "0.3648787172729351\n",
      "0.34963235909089446\n",
      "0.28075086336111205\n",
      "0.42827015317804534\n",
      "0.35351268773123323\n",
      "0.3122961655863968\n",
      "0.49730273493109084\n",
      "0.32132937935921874\n",
      "time taken to create model : 0.09020600000000112\n",
      "R square :  0.997156581185\n",
      "root mean squared error : 0.3689035838314955\n"
     ]
    }
   ],
   "source": [
    "truetime=0\n",
    "lr = linear_model.LinearRegression()\n",
    "for train_indices, test_indices in kf_total:\n",
    "        pt=time.clock()\n",
    "        fold += 1\n",
    "        #print (\"Fold: %s\" % fold)\n",
    "        #pt=time.clock()\n",
    "        X_train, X_test = df.ix[train_indices,:], df.ix[test_indices,:]\n",
    "        y_train, y_test = Y[train_indices], Y[test_indices]\n",
    "        \n",
    "        lr.fit(X_train,y_train)\n",
    "        pt2=time.clock()\n",
    "        t=pt2-pt\n",
    "        truetime=truetime+t\n",
    "        y_pred=lr.predict(X_test)\n",
    "        rSqr=lr.score(X_test, y_test)\n",
    "        #print (rSqr)\n",
    "        rmse=sqrt(mean_squared_error(y_test,y_pred))\n",
    "        print (rmse)\n",
    "        kf_dict.append(rSqr)\n",
    "        testMse.append(rmse)\n",
    "        \n",
    "    \n",
    "              \n",
    "print ('time taken to create model :', truetime)\n",
    "a=0\n",
    "for r in kf_dict:\n",
    "    a=a+r\n",
    "print ('R square : ' , a/len(kf_dict))\n",
    "\n",
    "b=0\n",
    "for rmse in testMse:\n",
    "    b=b+rmse\n",
    "print ('root mean squared error :' , b/len(testMse))\n",
    "\n"
   ]
  },
  {
   "cell_type": "code",
   "execution_count": 53,
   "metadata": {
    "collapsed": false
   },
   "outputs": [
    {
     "data": {
      "text/html": [
       "<div>\n",
       "<table border=\"1\" class=\"dataframe\">\n",
       "  <thead>\n",
       "    <tr style=\"text-align: right;\">\n",
       "      <th></th>\n",
       "      <th>Date</th>\n",
       "      <th>Open</th>\n",
       "      <th>High</th>\n",
       "      <th>Low</th>\n",
       "      <th>Close</th>\n",
       "      <th>Change1</th>\n",
       "      <th>Volume</th>\n",
       "      <th>Adj Close</th>\n",
       "      <th>Market</th>\n",
       "    </tr>\n",
       "  </thead>\n",
       "  <tbody>\n",
       "    <tr>\n",
       "      <th>0</th>\n",
       "      <td>2016-12-01</td>\n",
       "      <td>110.370003</td>\n",
       "      <td>110.940002</td>\n",
       "      <td>109.029999</td>\n",
       "      <td>109.489998</td>\n",
       "      <td>-0.880005</td>\n",
       "      <td>36825800</td>\n",
       "      <td>109.489998</td>\n",
       "      <td>Low</td>\n",
       "    </tr>\n",
       "    <tr>\n",
       "      <th>1</th>\n",
       "      <td>2016-11-30</td>\n",
       "      <td>111.599998</td>\n",
       "      <td>112.199997</td>\n",
       "      <td>110.269997</td>\n",
       "      <td>110.519997</td>\n",
       "      <td>-1.080001</td>\n",
       "      <td>35765000</td>\n",
       "      <td>110.519997</td>\n",
       "      <td>Low</td>\n",
       "    </tr>\n",
       "    <tr>\n",
       "      <th>2</th>\n",
       "      <td>2016-11-29</td>\n",
       "      <td>110.779999</td>\n",
       "      <td>112.029999</td>\n",
       "      <td>110.070000</td>\n",
       "      <td>111.459999</td>\n",
       "      <td>0.680000</td>\n",
       "      <td>28459300</td>\n",
       "      <td>111.459999</td>\n",
       "      <td>High</td>\n",
       "    </tr>\n",
       "    <tr>\n",
       "      <th>3</th>\n",
       "      <td>2016-11-28</td>\n",
       "      <td>111.430000</td>\n",
       "      <td>112.470001</td>\n",
       "      <td>111.389999</td>\n",
       "      <td>111.570000</td>\n",
       "      <td>0.140000</td>\n",
       "      <td>27026600</td>\n",
       "      <td>111.570000</td>\n",
       "      <td>High</td>\n",
       "    </tr>\n",
       "    <tr>\n",
       "      <th>4</th>\n",
       "      <td>2016-11-25</td>\n",
       "      <td>111.129997</td>\n",
       "      <td>111.870003</td>\n",
       "      <td>110.949997</td>\n",
       "      <td>111.790001</td>\n",
       "      <td>0.660004</td>\n",
       "      <td>11424400</td>\n",
       "      <td>111.790001</td>\n",
       "      <td>High</td>\n",
       "    </tr>\n",
       "    <tr>\n",
       "      <th>5</th>\n",
       "      <td>2016-11-23</td>\n",
       "      <td>111.360001</td>\n",
       "      <td>111.510002</td>\n",
       "      <td>110.330002</td>\n",
       "      <td>111.230003</td>\n",
       "      <td>-0.129998</td>\n",
       "      <td>27387900</td>\n",
       "      <td>111.230003</td>\n",
       "      <td>Low</td>\n",
       "    </tr>\n",
       "    <tr>\n",
       "      <th>6</th>\n",
       "      <td>2016-11-22</td>\n",
       "      <td>111.949997</td>\n",
       "      <td>112.419998</td>\n",
       "      <td>111.400002</td>\n",
       "      <td>111.800003</td>\n",
       "      <td>-0.149994</td>\n",
       "      <td>25922600</td>\n",
       "      <td>111.800003</td>\n",
       "      <td>Low</td>\n",
       "    </tr>\n",
       "    <tr>\n",
       "      <th>7</th>\n",
       "      <td>2016-11-21</td>\n",
       "      <td>110.120003</td>\n",
       "      <td>111.989998</td>\n",
       "      <td>110.010002</td>\n",
       "      <td>111.730003</td>\n",
       "      <td>1.610000</td>\n",
       "      <td>29119100</td>\n",
       "      <td>111.730003</td>\n",
       "      <td>High</td>\n",
       "    </tr>\n",
       "    <tr>\n",
       "      <th>8</th>\n",
       "      <td>2016-11-18</td>\n",
       "      <td>109.720001</td>\n",
       "      <td>110.540001</td>\n",
       "      <td>109.660004</td>\n",
       "      <td>110.059998</td>\n",
       "      <td>0.339997</td>\n",
       "      <td>27404300</td>\n",
       "      <td>110.059998</td>\n",
       "      <td>High</td>\n",
       "    </tr>\n",
       "  </tbody>\n",
       "</table>\n",
       "</div>"
      ],
      "text/plain": [
       "         Date        Open        High         Low       Close   Change1  \\\n",
       "0  2016-12-01  110.370003  110.940002  109.029999  109.489998 -0.880005   \n",
       "1  2016-11-30  111.599998  112.199997  110.269997  110.519997 -1.080001   \n",
       "2  2016-11-29  110.779999  112.029999  110.070000  111.459999  0.680000   \n",
       "3  2016-11-28  111.430000  112.470001  111.389999  111.570000  0.140000   \n",
       "4  2016-11-25  111.129997  111.870003  110.949997  111.790001  0.660004   \n",
       "5  2016-11-23  111.360001  111.510002  110.330002  111.230003 -0.129998   \n",
       "6  2016-11-22  111.949997  112.419998  111.400002  111.800003 -0.149994   \n",
       "7  2016-11-21  110.120003  111.989998  110.010002  111.730003  1.610000   \n",
       "8  2016-11-18  109.720001  110.540001  109.660004  110.059998  0.339997   \n",
       "\n",
       "     Volume   Adj Close Market  \n",
       "0  36825800  109.489998    Low  \n",
       "1  35765000  110.519997    Low  \n",
       "2  28459300  111.459999   High  \n",
       "3  27026600  111.570000   High  \n",
       "4  11424400  111.790001   High  \n",
       "5  27387900  111.230003    Low  \n",
       "6  25922600  111.800003    Low  \n",
       "7  29119100  111.730003   High  \n",
       "8  27404300  110.059998   High  "
      ]
     },
     "execution_count": 53,
     "metadata": {},
     "output_type": "execute_result"
    }
   ],
   "source": [
    "testdataset='/Users/rohit/Downloads/test.csv'\n",
    "test=p.read_csv(testdataset)\n",
    "test.rename(columns={'Change%': 'Change'}, inplace=True)\n",
    "\n",
    "\n",
    "test.head(10)"
   ]
  },
  {
   "cell_type": "code",
   "execution_count": 54,
   "metadata": {
    "collapsed": false
   },
   "outputs": [],
   "source": [
    "target_test=test.Close\n",
    "del test['Date']\n",
    "del test['Close']\n",
    "del test['Market']\n",
    "\n",
    "del test['Change1']\n",
    "del test['Volume']"
   ]
  },
  {
   "cell_type": "code",
   "execution_count": 55,
   "metadata": {
    "collapsed": false
   },
   "outputs": [
    {
     "data": {
      "text/html": [
       "<div>\n",
       "<table border=\"1\" class=\"dataframe\">\n",
       "  <thead>\n",
       "    <tr style=\"text-align: right;\">\n",
       "      <th></th>\n",
       "      <th>Open</th>\n",
       "      <th>High</th>\n",
       "      <th>Low</th>\n",
       "      <th>Adj Close</th>\n",
       "    </tr>\n",
       "  </thead>\n",
       "  <tbody>\n",
       "    <tr>\n",
       "      <th>0</th>\n",
       "      <td>110.370003</td>\n",
       "      <td>110.940002</td>\n",
       "      <td>109.029999</td>\n",
       "      <td>109.489998</td>\n",
       "    </tr>\n",
       "    <tr>\n",
       "      <th>1</th>\n",
       "      <td>111.599998</td>\n",
       "      <td>112.199997</td>\n",
       "      <td>110.269997</td>\n",
       "      <td>110.519997</td>\n",
       "    </tr>\n",
       "  </tbody>\n",
       "</table>\n",
       "</div>"
      ],
      "text/plain": [
       "         Open        High         Low   Adj Close\n",
       "0  110.370003  110.940002  109.029999  109.489998\n",
       "1  111.599998  112.199997  110.269997  110.519997"
      ]
     },
     "execution_count": 55,
     "metadata": {},
     "output_type": "execute_result"
    }
   ],
   "source": [
    "test.head(2)\n",
    "#score and Coefficient value"
   ]
  },
  {
   "cell_type": "code",
   "execution_count": 56,
   "metadata": {
    "collapsed": false
   },
   "outputs": [],
   "source": [
    "\n",
    "test_pred=lr.predict(test)"
   ]
  },
  {
   "cell_type": "code",
   "execution_count": null,
   "metadata": {
    "collapsed": false
   },
   "outputs": [],
   "source": []
  },
  {
   "cell_type": "code",
   "execution_count": 57,
   "metadata": {
    "collapsed": false
   },
   "outputs": [
    {
     "data": {
      "text/plain": [
       "array([ 110.13810412,  111.26026834,  111.81688489,  112.27537247,\n",
       "        112.07816329,  111.40196582,  112.24596791,  112.08504647,\n",
       "        110.59589495])"
      ]
     },
     "execution_count": 57,
     "metadata": {},
     "output_type": "execute_result"
    }
   ],
   "source": [
    "test_pred"
   ]
  },
  {
   "cell_type": "code",
   "execution_count": 58,
   "metadata": {
    "collapsed": false
   },
   "outputs": [
    {
     "data": {
      "text/plain": [
       "array([-0.24774954,  0.43476943,  0.281534  ,  0.51455004])"
      ]
     },
     "execution_count": 58,
     "metadata": {},
     "output_type": "execute_result"
    }
   ],
   "source": [
    "#lr.score(test,target_test)\n",
    "lr.coef_"
   ]
  },
  {
   "cell_type": "code",
   "execution_count": 59,
   "metadata": {
    "collapsed": false
   },
   "outputs": [
    {
     "data": {
      "text/plain": [
       "2.2151666455214638"
      ]
     },
     "execution_count": 59,
     "metadata": {},
     "output_type": "execute_result"
    }
   ],
   "source": [
    "lr.intercept_"
   ]
  },
  {
   "cell_type": "code",
   "execution_count": null,
   "metadata": {
    "collapsed": false
   },
   "outputs": [],
   "source": []
  },
  {
   "cell_type": "code",
   "execution_count": null,
   "metadata": {
    "collapsed": false
   },
   "outputs": [],
   "source": [
    "\n"
   ]
  },
  {
   "cell_type": "code",
   "execution_count": null,
   "metadata": {
    "collapsed": false
   },
   "outputs": [],
   "source": []
  },
  {
   "cell_type": "code",
   "execution_count": null,
   "metadata": {
    "collapsed": true
   },
   "outputs": [],
   "source": []
  },
  {
   "cell_type": "code",
   "execution_count": null,
   "metadata": {
    "collapsed": true
   },
   "outputs": [],
   "source": []
  }
 ],
 "metadata": {
  "anaconda-cloud": {},
  "kernelspec": {
   "display_name": "Python [Root]",
   "language": "python",
   "name": "Python [Root]"
  },
  "language_info": {
   "codemirror_mode": {
    "name": "ipython",
    "version": 3
   },
   "file_extension": ".py",
   "mimetype": "text/x-python",
   "name": "python",
   "nbconvert_exporter": "python",
   "pygments_lexer": "ipython3",
   "version": "3.5.2"
  }
 },
 "nbformat": 4,
 "nbformat_minor": 0
}
