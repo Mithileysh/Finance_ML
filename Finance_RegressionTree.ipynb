{
 "cells": [
  {
   "cell_type": "code",
   "execution_count": 39,
   "metadata": {
    "collapsed": false
   },
   "outputs": [],
   "source": [
    "from sklearn import datasets\n",
    "from sklearn.cross_validation import cross_val_score\n",
    "from sklearn.cross_validation import cross_val_predict\n",
    "from sklearn import linear_model\n",
    "import matplotlib.pyplot as plt\n",
    "from sklearn import cross_validation\n",
    "from sklearn.cross_validation import KFold\n",
    "import numpy as np\n",
    "import pandas as p\n",
    "from sklearn import metrics \n",
    "from sklearn.metrics import mean_squared_error\n",
    "data='/Users/rohit/Downloads/guid_02.csv'\n",
    "df=p.read_csv(data)\n",
    "df.rename(columns={'Change%': 'Change'}, inplace=True)\n",
    "df.head(5)\n",
    "del df['Date']\n",
    "del df['Market']"
   ]
  },
  {
   "cell_type": "code",
   "execution_count": 40,
   "metadata": {
    "collapsed": false
   },
   "outputs": [
    {
     "data": {
      "text/html": [
       "<div>\n",
       "<table border=\"1\" class=\"dataframe\">\n",
       "  <thead>\n",
       "    <tr style=\"text-align: right;\">\n",
       "      <th></th>\n",
       "      <th>Open</th>\n",
       "      <th>High</th>\n",
       "      <th>Low</th>\n",
       "      <th>Close</th>\n",
       "      <th>Change</th>\n",
       "      <th>Adj Close</th>\n",
       "    </tr>\n",
       "  </thead>\n",
       "  <tbody>\n",
       "    <tr>\n",
       "      <th>0</th>\n",
       "      <td>109.809998</td>\n",
       "      <td>110.349998</td>\n",
       "      <td>108.830002</td>\n",
       "      <td>109.949997</td>\n",
       "      <td>0.139999</td>\n",
       "      <td>109.949997</td>\n",
       "    </tr>\n",
       "    <tr>\n",
       "      <th>1</th>\n",
       "      <td>106.699997</td>\n",
       "      <td>110.230003</td>\n",
       "      <td>106.599998</td>\n",
       "      <td>109.989998</td>\n",
       "      <td>3.290001</td>\n",
       "      <td>109.989998</td>\n",
       "    </tr>\n",
       "    <tr>\n",
       "      <th>2</th>\n",
       "      <td>106.570000</td>\n",
       "      <td>107.680000</td>\n",
       "      <td>106.160004</td>\n",
       "      <td>107.110001</td>\n",
       "      <td>0.540001</td>\n",
       "      <td>107.110001</td>\n",
       "    </tr>\n",
       "    <tr>\n",
       "      <th>3</th>\n",
       "      <td>107.709999</td>\n",
       "      <td>107.809998</td>\n",
       "      <td>104.080002</td>\n",
       "      <td>105.709999</td>\n",
       "      <td>-2.000000</td>\n",
       "      <td>105.709999</td>\n",
       "    </tr>\n",
       "    <tr>\n",
       "      <th>4</th>\n",
       "      <td>107.120003</td>\n",
       "      <td>108.870003</td>\n",
       "      <td>106.550003</td>\n",
       "      <td>108.430000</td>\n",
       "      <td>1.309997</td>\n",
       "      <td>108.430000</td>\n",
       "    </tr>\n",
       "  </tbody>\n",
       "</table>\n",
       "</div>"
      ],
      "text/plain": [
       "         Open        High         Low       Close    Change   Adj Close\n",
       "0  109.809998  110.349998  108.830002  109.949997  0.139999  109.949997\n",
       "1  106.699997  110.230003  106.599998  109.989998  3.290001  109.989998\n",
       "2  106.570000  107.680000  106.160004  107.110001  0.540001  107.110001\n",
       "3  107.709999  107.809998  104.080002  105.709999 -2.000000  105.709999\n",
       "4  107.120003  108.870003  106.550003  108.430000  1.309997  108.430000"
      ]
     },
     "execution_count": 40,
     "metadata": {},
     "output_type": "execute_result"
    }
   ],
   "source": [
    "\n",
    "Y=df.Volume\n",
    "del df['Volume']\n",
    "df.head(5)"
   ]
  },
  {
   "cell_type": "code",
   "execution_count": 41,
   "metadata": {
    "collapsed": false
   },
   "outputs": [
    {
     "data": {
      "text/plain": [
       "array([  8.68893724e-04,   4.71111473e-03,   7.62106187e-05,\n",
       "         6.37292188e-04,   5.42147525e-01,   2.94865293e-04])"
      ]
     },
     "execution_count": 41,
     "metadata": {},
     "output_type": "execute_result"
    }
   ],
   "source": [
    "\n",
    "x = np.shape(df)\n",
    "y = np.shape(Y)\n",
    "kf_total = cross_validation.KFold(len(df), n_folds=10, shuffle=True,random_state=4)\n",
    "kf_total\n",
    "from sklearn.feature_selection import f_regression\n",
    "feature=f_regression(df,Y,center=True)\n",
    "feature[1]"
   ]
  },
  {
   "cell_type": "code",
   "execution_count": 42,
   "metadata": {
    "collapsed": false
   },
   "outputs": [
    {
     "name": "stdout",
     "output_type": "stream",
     "text": [
      "time taken to create model : 0.04443399999999986\n",
      "R Squared value is : 0.200854251308\n",
      "root mean squared error : 14317537.63702851\n",
      "size of tree is : 15\n"
     ]
    }
   ],
   "source": [
    "from sklearn.tree import DecisionTreeRegressor\n",
    "from sklearn.metrics import accuracy_score\n",
    "from sklearn.metrics import median_absolute_error\n",
    "from sklearn.metrics import mean_squared_error\n",
    "from sklearn.metrics import r2_score\n",
    "from math import sqrt\n",
    "import datetime\n",
    "import time\n",
    "#kf_dict = dict([(\"fold_%s\" % i,[]) for i in range(1, 10+1)])\n",
    "kf_dict=[]\n",
    "testMse=[]\n",
    "fold=0\n",
    "\n",
    "#print(pt,'\\n')\n",
    "truetime=0\n",
    "\n",
    "for train_indices, test_indices in kf_total:\n",
    "        regr_1 = DecisionTreeRegressor(min_samples_split=40,min_samples_leaf=15,max_leaf_nodes=25)\n",
    "        regr_2 = DecisionTreeRegressor(max_depth=10)\n",
    "        pt=time.clock()\n",
    "        fold += 1\n",
    "        #print (\"Fold: %s\" % fold)\n",
    "        #pt=time.clock()\n",
    "        X_train, X_test = df.ix[train_indices,:], df.ix[test_indices,:]\n",
    "        y_train, y_test = Y[train_indices], Y[test_indices]\n",
    "        lr = linear_model.LinearRegression()\n",
    "        regr_1.fit(X_train,y_train)\n",
    "        pt2=time.clock()\n",
    "        t=pt2-pt\n",
    "        truetime=truetime+t\n",
    "        y_pred=regr_1.predict(X_test)\n",
    "        rSqr=regr_1.score(X_test, y_test)\n",
    "        rmse=sqrt(mean_squared_error(y_test,y_pred))\n",
    "        kf_dict.append(rSqr)\n",
    "        testMse.append(rmse)\n",
    "        \n",
    "\n",
    "              \n",
    "print ('time taken to create model :', truetime)\n",
    "\n",
    "a=0\n",
    "for rSq in kf_dict:\n",
    "    a=a+rSq\n",
    "print ('R Squared value is :', a/len(kf_dict))\n",
    "\n",
    "b=0\n",
    "for rmse in testMse:\n",
    "    b=b+rmse\n",
    "print ('root mean squared error :' , b/len(testMse))\n",
    "\n",
    "a=regr_1.tree_\n",
    "print (\"size of tree is :\" ,a.node_count)"
   ]
  },
  {
   "cell_type": "code",
   "execution_count": 43,
   "metadata": {
    "collapsed": false
   },
   "outputs": [
    {
     "data": {
      "text/plain": [
       "array([ 0.        ,  0.00479641,  0.10610316,  0.        ,  0.86512377,\n",
       "        0.02397667])"
      ]
     },
     "execution_count": 43,
     "metadata": {},
     "output_type": "execute_result"
    }
   ],
   "source": [
    "regr_1.feature_importances_ "
   ]
  },
  {
   "cell_type": "code",
   "execution_count": 44,
   "metadata": {
    "collapsed": true
   },
   "outputs": [],
   "source": [
    "from sklearn import tree\n",
    "import graphviz \n",
    "tree.export_graphviz(regr_1,out_file='stock',feature_names=df.columns) \n",
    " \n",
    "from graphviz import Digraph\n",
    "from graphviz import dot"
   ]
  },
  {
   "cell_type": "code",
   "execution_count": 45,
   "metadata": {
    "collapsed": false
   },
   "outputs": [
    {
     "data": {
      "text/html": [
       "<div>\n",
       "<table border=\"1\" class=\"dataframe\">\n",
       "  <thead>\n",
       "    <tr style=\"text-align: right;\">\n",
       "      <th></th>\n",
       "      <th>Date</th>\n",
       "      <th>Open</th>\n",
       "      <th>High</th>\n",
       "      <th>Low</th>\n",
       "      <th>Close</th>\n",
       "      <th>Change1</th>\n",
       "      <th>Volume</th>\n",
       "      <th>Adj Close</th>\n",
       "      <th>Market</th>\n",
       "    </tr>\n",
       "  </thead>\n",
       "  <tbody>\n",
       "    <tr>\n",
       "      <th>0</th>\n",
       "      <td>2016-12-01</td>\n",
       "      <td>110.370003</td>\n",
       "      <td>110.940002</td>\n",
       "      <td>109.029999</td>\n",
       "      <td>109.489998</td>\n",
       "      <td>-0.880005</td>\n",
       "      <td>36825800</td>\n",
       "      <td>109.489998</td>\n",
       "      <td>Low</td>\n",
       "    </tr>\n",
       "    <tr>\n",
       "      <th>1</th>\n",
       "      <td>2016-11-30</td>\n",
       "      <td>111.599998</td>\n",
       "      <td>112.199997</td>\n",
       "      <td>110.269997</td>\n",
       "      <td>110.519997</td>\n",
       "      <td>-1.080001</td>\n",
       "      <td>35765000</td>\n",
       "      <td>110.519997</td>\n",
       "      <td>Low</td>\n",
       "    </tr>\n",
       "    <tr>\n",
       "      <th>2</th>\n",
       "      <td>2016-11-29</td>\n",
       "      <td>110.779999</td>\n",
       "      <td>112.029999</td>\n",
       "      <td>110.070000</td>\n",
       "      <td>111.459999</td>\n",
       "      <td>0.680000</td>\n",
       "      <td>28459300</td>\n",
       "      <td>111.459999</td>\n",
       "      <td>High</td>\n",
       "    </tr>\n",
       "    <tr>\n",
       "      <th>3</th>\n",
       "      <td>2016-11-28</td>\n",
       "      <td>111.430000</td>\n",
       "      <td>112.470001</td>\n",
       "      <td>111.389999</td>\n",
       "      <td>111.570000</td>\n",
       "      <td>0.140000</td>\n",
       "      <td>27026600</td>\n",
       "      <td>111.570000</td>\n",
       "      <td>High</td>\n",
       "    </tr>\n",
       "    <tr>\n",
       "      <th>4</th>\n",
       "      <td>2016-11-25</td>\n",
       "      <td>111.129997</td>\n",
       "      <td>111.870003</td>\n",
       "      <td>110.949997</td>\n",
       "      <td>111.790001</td>\n",
       "      <td>0.660004</td>\n",
       "      <td>11424400</td>\n",
       "      <td>111.790001</td>\n",
       "      <td>High</td>\n",
       "    </tr>\n",
       "    <tr>\n",
       "      <th>5</th>\n",
       "      <td>2016-11-23</td>\n",
       "      <td>111.360001</td>\n",
       "      <td>111.510002</td>\n",
       "      <td>110.330002</td>\n",
       "      <td>111.230003</td>\n",
       "      <td>-0.129998</td>\n",
       "      <td>27387900</td>\n",
       "      <td>111.230003</td>\n",
       "      <td>Low</td>\n",
       "    </tr>\n",
       "    <tr>\n",
       "      <th>6</th>\n",
       "      <td>2016-11-22</td>\n",
       "      <td>111.949997</td>\n",
       "      <td>112.419998</td>\n",
       "      <td>111.400002</td>\n",
       "      <td>111.800003</td>\n",
       "      <td>-0.149994</td>\n",
       "      <td>25922600</td>\n",
       "      <td>111.800003</td>\n",
       "      <td>Low</td>\n",
       "    </tr>\n",
       "    <tr>\n",
       "      <th>7</th>\n",
       "      <td>2016-11-21</td>\n",
       "      <td>110.120003</td>\n",
       "      <td>111.989998</td>\n",
       "      <td>110.010002</td>\n",
       "      <td>111.730003</td>\n",
       "      <td>1.610000</td>\n",
       "      <td>29119100</td>\n",
       "      <td>111.730003</td>\n",
       "      <td>High</td>\n",
       "    </tr>\n",
       "    <tr>\n",
       "      <th>8</th>\n",
       "      <td>2016-11-18</td>\n",
       "      <td>109.720001</td>\n",
       "      <td>110.540001</td>\n",
       "      <td>109.660004</td>\n",
       "      <td>110.059998</td>\n",
       "      <td>0.339997</td>\n",
       "      <td>27404300</td>\n",
       "      <td>110.059998</td>\n",
       "      <td>High</td>\n",
       "    </tr>\n",
       "  </tbody>\n",
       "</table>\n",
       "</div>"
      ],
      "text/plain": [
       "         Date        Open        High         Low       Close   Change1  \\\n",
       "0  2016-12-01  110.370003  110.940002  109.029999  109.489998 -0.880005   \n",
       "1  2016-11-30  111.599998  112.199997  110.269997  110.519997 -1.080001   \n",
       "2  2016-11-29  110.779999  112.029999  110.070000  111.459999  0.680000   \n",
       "3  2016-11-28  111.430000  112.470001  111.389999  111.570000  0.140000   \n",
       "4  2016-11-25  111.129997  111.870003  110.949997  111.790001  0.660004   \n",
       "5  2016-11-23  111.360001  111.510002  110.330002  111.230003 -0.129998   \n",
       "6  2016-11-22  111.949997  112.419998  111.400002  111.800003 -0.149994   \n",
       "7  2016-11-21  110.120003  111.989998  110.010002  111.730003  1.610000   \n",
       "8  2016-11-18  109.720001  110.540001  109.660004  110.059998  0.339997   \n",
       "\n",
       "     Volume   Adj Close Market  \n",
       "0  36825800  109.489998    Low  \n",
       "1  35765000  110.519997    Low  \n",
       "2  28459300  111.459999   High  \n",
       "3  27026600  111.570000   High  \n",
       "4  11424400  111.790001   High  \n",
       "5  27387900  111.230003    Low  \n",
       "6  25922600  111.800003    Low  \n",
       "7  29119100  111.730003   High  \n",
       "8  27404300  110.059998   High  "
      ]
     },
     "execution_count": 45,
     "metadata": {},
     "output_type": "execute_result"
    }
   ],
   "source": [
    "testdataset='/Users/rohit/Downloads/test.csv'\n",
    "test=p.read_csv(testdataset)\n",
    "test.head(10)"
   ]
  },
  {
   "cell_type": "code",
   "execution_count": 46,
   "metadata": {
    "collapsed": false
   },
   "outputs": [
    {
     "data": {
      "text/html": [
       "<div>\n",
       "<table border=\"1\" class=\"dataframe\">\n",
       "  <thead>\n",
       "    <tr style=\"text-align: right;\">\n",
       "      <th></th>\n",
       "      <th>Open</th>\n",
       "      <th>High</th>\n",
       "      <th>Low</th>\n",
       "      <th>Close</th>\n",
       "      <th>Change1</th>\n",
       "      <th>Adj Close</th>\n",
       "    </tr>\n",
       "  </thead>\n",
       "  <tbody>\n",
       "    <tr>\n",
       "      <th>0</th>\n",
       "      <td>110.370003</td>\n",
       "      <td>110.940002</td>\n",
       "      <td>109.029999</td>\n",
       "      <td>109.489998</td>\n",
       "      <td>-0.880005</td>\n",
       "      <td>109.489998</td>\n",
       "    </tr>\n",
       "    <tr>\n",
       "      <th>1</th>\n",
       "      <td>111.599998</td>\n",
       "      <td>112.199997</td>\n",
       "      <td>110.269997</td>\n",
       "      <td>110.519997</td>\n",
       "      <td>-1.080001</td>\n",
       "      <td>110.519997</td>\n",
       "    </tr>\n",
       "    <tr>\n",
       "      <th>2</th>\n",
       "      <td>110.779999</td>\n",
       "      <td>112.029999</td>\n",
       "      <td>110.070000</td>\n",
       "      <td>111.459999</td>\n",
       "      <td>0.680000</td>\n",
       "      <td>111.459999</td>\n",
       "    </tr>\n",
       "    <tr>\n",
       "      <th>3</th>\n",
       "      <td>111.430000</td>\n",
       "      <td>112.470001</td>\n",
       "      <td>111.389999</td>\n",
       "      <td>111.570000</td>\n",
       "      <td>0.140000</td>\n",
       "      <td>111.570000</td>\n",
       "    </tr>\n",
       "    <tr>\n",
       "      <th>4</th>\n",
       "      <td>111.129997</td>\n",
       "      <td>111.870003</td>\n",
       "      <td>110.949997</td>\n",
       "      <td>111.790001</td>\n",
       "      <td>0.660004</td>\n",
       "      <td>111.790001</td>\n",
       "    </tr>\n",
       "    <tr>\n",
       "      <th>5</th>\n",
       "      <td>111.360001</td>\n",
       "      <td>111.510002</td>\n",
       "      <td>110.330002</td>\n",
       "      <td>111.230003</td>\n",
       "      <td>-0.129998</td>\n",
       "      <td>111.230003</td>\n",
       "    </tr>\n",
       "    <tr>\n",
       "      <th>6</th>\n",
       "      <td>111.949997</td>\n",
       "      <td>112.419998</td>\n",
       "      <td>111.400002</td>\n",
       "      <td>111.800003</td>\n",
       "      <td>-0.149994</td>\n",
       "      <td>111.800003</td>\n",
       "    </tr>\n",
       "    <tr>\n",
       "      <th>7</th>\n",
       "      <td>110.120003</td>\n",
       "      <td>111.989998</td>\n",
       "      <td>110.010002</td>\n",
       "      <td>111.730003</td>\n",
       "      <td>1.610000</td>\n",
       "      <td>111.730003</td>\n",
       "    </tr>\n",
       "    <tr>\n",
       "      <th>8</th>\n",
       "      <td>109.720001</td>\n",
       "      <td>110.540001</td>\n",
       "      <td>109.660004</td>\n",
       "      <td>110.059998</td>\n",
       "      <td>0.339997</td>\n",
       "      <td>110.059998</td>\n",
       "    </tr>\n",
       "  </tbody>\n",
       "</table>\n",
       "</div>"
      ],
      "text/plain": [
       "         Open        High         Low       Close   Change1   Adj Close\n",
       "0  110.370003  110.940002  109.029999  109.489998 -0.880005  109.489998\n",
       "1  111.599998  112.199997  110.269997  110.519997 -1.080001  110.519997\n",
       "2  110.779999  112.029999  110.070000  111.459999  0.680000  111.459999\n",
       "3  111.430000  112.470001  111.389999  111.570000  0.140000  111.570000\n",
       "4  111.129997  111.870003  110.949997  111.790001  0.660004  111.790001\n",
       "5  111.360001  111.510002  110.330002  111.230003 -0.129998  111.230003\n",
       "6  111.949997  112.419998  111.400002  111.800003 -0.149994  111.800003\n",
       "7  110.120003  111.989998  110.010002  111.730003  1.610000  111.730003\n",
       "8  109.720001  110.540001  109.660004  110.059998  0.339997  110.059998"
      ]
     },
     "execution_count": 46,
     "metadata": {},
     "output_type": "execute_result"
    }
   ],
   "source": [
    "\n",
    "\n",
    "del test['Date']\n",
    "del test['Market']\n",
    "\n",
    "Y=test.Volume\n",
    "del test['Volume']\n",
    "test.head(10)"
   ]
  },
  {
   "cell_type": "code",
   "execution_count": 47,
   "metadata": {
    "collapsed": false
   },
   "outputs": [
    {
     "data": {
      "text/plain": [
       "0    36825800\n",
       "1    35765000\n",
       "2    28459300\n",
       "3    27026600\n",
       "4    11424400\n",
       "5    27387900\n",
       "6    25922600\n",
       "7    29119100\n",
       "8    27404300\n",
       "Name: Volume, dtype: int64"
      ]
     },
     "execution_count": 47,
     "metadata": {},
     "output_type": "execute_result"
    }
   ],
   "source": [
    "#test.head(10)\n",
    "Y"
   ]
  },
  {
   "cell_type": "code",
   "execution_count": 48,
   "metadata": {
    "collapsed": true
   },
   "outputs": [],
   "source": [
    "\n",
    "pr=regr_1.predict(test)"
   ]
  },
  {
   "cell_type": "code",
   "execution_count": 49,
   "metadata": {
    "collapsed": false
   },
   "outputs": [
    {
     "data": {
      "text/plain": [
       "array([ 25843373.07692308,  25843373.07692308,  35579946.15384615,\n",
       "        25843373.07692308,  35579946.15384615,  25843373.07692308,\n",
       "        25843373.07692308,  64467068.75      ,  25843373.07692308])"
      ]
     },
     "execution_count": 49,
     "metadata": {},
     "output_type": "execute_result"
    }
   ],
   "source": [
    "pr"
   ]
  },
  {
   "cell_type": "code",
   "execution_count": null,
   "metadata": {
    "collapsed": true
   },
   "outputs": [],
   "source": [
    "#This one is model tree.\n",
    "#Change%\tAdj Close are important attributes to made the tree. \n",
    "#Volume prediction is not related to any other attribute so it is not good to predict the value of volume might be other attributes are required to predict volume."
   ]
  }
 ],
 "metadata": {
  "anaconda-cloud": {},
  "kernelspec": {
   "display_name": "Python [Root]",
   "language": "python",
   "name": "Python [Root]"
  },
  "language_info": {
   "codemirror_mode": {
    "name": "ipython",
    "version": 3
   },
   "file_extension": ".py",
   "mimetype": "text/x-python",
   "name": "python",
   "nbconvert_exporter": "python",
   "pygments_lexer": "ipython3",
   "version": "3.5.2"
  }
 },
 "nbformat": 4,
 "nbformat_minor": 0
}
