{
 "cells": [
  {
   "cell_type": "code",
   "execution_count": 72,
   "metadata": {
    "collapsed": false
   },
   "outputs": [
    {
     "data": {
      "text/html": [
       "<div>\n",
       "<table border=\"1\" class=\"dataframe\">\n",
       "  <thead>\n",
       "    <tr style=\"text-align: right;\">\n",
       "      <th></th>\n",
       "      <th>FY=1</th>\n",
       "      <th>FY=2</th>\n",
       "      <th>FY=3</th>\n",
       "      <th>FY=4</th>\n",
       "      <th>FY=5</th>\n",
       "      <th>Open</th>\n",
       "      <th>High</th>\n",
       "      <th>Low</th>\n",
       "      <th>Close</th>\n",
       "      <th>Volume</th>\n",
       "      <th>'Adj Close'</th>\n",
       "      <th>Market</th>\n",
       "    </tr>\n",
       "  </thead>\n",
       "  <tbody>\n",
       "    <tr>\n",
       "      <th>0</th>\n",
       "      <td>0</td>\n",
       "      <td>0</td>\n",
       "      <td>0</td>\n",
       "      <td>0</td>\n",
       "      <td>1</td>\n",
       "      <td>109.169998</td>\n",
       "      <td>110.089996</td>\n",
       "      <td>108.849998</td>\n",
       "      <td>109.900002</td>\n",
       "      <td>26409800</td>\n",
       "      <td>109.900002</td>\n",
       "      <td>1</td>\n",
       "    </tr>\n",
       "    <tr>\n",
       "      <th>1</th>\n",
       "      <td>0</td>\n",
       "      <td>0</td>\n",
       "      <td>0</td>\n",
       "      <td>0</td>\n",
       "      <td>1</td>\n",
       "      <td>110.370003</td>\n",
       "      <td>110.940002</td>\n",
       "      <td>109.029999</td>\n",
       "      <td>109.489998</td>\n",
       "      <td>36825800</td>\n",
       "      <td>109.489998</td>\n",
       "      <td>0</td>\n",
       "    </tr>\n",
       "  </tbody>\n",
       "</table>\n",
       "</div>"
      ],
      "text/plain": [
       "   FY=1  FY=2  FY=3  FY=4  FY=5        Open        High         Low  \\\n",
       "0     0     0     0     0     1  109.169998  110.089996  108.849998   \n",
       "1     0     0     0     0     1  110.370003  110.940002  109.029999   \n",
       "\n",
       "        Close    Volume  'Adj Close'  Market  \n",
       "0  109.900002  26409800   109.900002       1  \n",
       "1  109.489998  36825800   109.489998       0  "
      ]
     },
     "execution_count": 72,
     "metadata": {},
     "output_type": "execute_result"
    }
   ],
   "source": [
    "from sklearn import cluster\n",
    "from sklearn import preprocessing\n",
    "import pandas as pd\n",
    "import numpy as np\n",
    "import matplotlib.pyplot as plt\n",
    "import seaborn as sns\n",
    "from sklearn.decomposition import PCA\n",
    "from sklearn.metrics.pairwise import pairwise_distances\n",
    "import collections\n",
    "import datetime\n",
    "import time\n",
    "\n",
    "df = pd.read_csv('/Users/rohit/Downloads/fivefinance.csv')\n",
    "df[\"Adj Close\"]\n",
    "df.head(2)\n",
    "\n",
    "\n",
    "\n",
    "df_target= pd.read_csv('/Users/rohit/Downloads/fivefinance1.csv')\n",
    "\n",
    "\n",
    "df_target.head(2)\n"
   ]
  },
  {
   "cell_type": "code",
   "execution_count": 73,
   "metadata": {
    "collapsed": false
   },
   "outputs": [],
   "source": [
    "sns.set(style=\"white\")\n",
    "\n",
    "\n",
    "#corrmat = df_target.corr()\n",
    "corrmat=df_target.corr()\n",
    "# print(corrmat)\n",
    "# Set up the matplotlib figure\n",
    "f, ax = plt.subplots(figsize=(11, 9))\n",
    "cmap = sns.diverging_palette(220, 10, as_cmap=True)\n",
    "\n",
    "sns.heatmap(corrmat, vmax=.8, square=True)\n",
    "plt.show()"
   ]
  },
  {
   "cell_type": "code",
   "execution_count": 50,
   "metadata": {
    "collapsed": false
   },
   "outputs": [],
   "source": [
    "# K means\n",
    "\n",
    "# df = pd.get_dummies(df)\n",
    "# df = preprocessing.normalize(df, norm='l2')\n",
    "#df = pd.read_csv('/Users/rohit/Downloads/KDD/fivefinance.csv')\n",
    "\n",
    "\n",
    "# Data_1 = df([])\n",
    "Kmean_score = np.zeros((20,1))\n",
    "for i in range(20):\n",
    "    k_means = cluster.KMeans(n_clusters=i+1, random_state=0).fit(df)\n",
    "    Kmean_score[i] = k_means.inertia_\n",
    "Kmean_score = np.concatenate(Kmean_score)\n",
    "\n",
    "# plt.figure(figsize=(10,5))\n",
    "plt.plot(np.arange(1,21), Kmean_score, lw=2)\n",
    "plt.xlabel('number of clusters')\n",
    "plt.ylabel('SSE')\n",
    "plt.title('Optimal cluster number by K means method')\n",
    "plt.show()"
   ]
  },
  {
   "cell_type": "code",
   "execution_count": null,
   "metadata": {
    "collapsed": false
   },
   "outputs": [],
   "source": []
  },
  {
   "cell_type": "code",
   "execution_count": 74,
   "metadata": {
    "collapsed": true
   },
   "outputs": [],
   "source": [
    "\n",
    "df_adj=pd.DataFrame(df_target, columns=[ 'Close','Volume','Low', \"'Adj Close'\", 'Market'])\n",
    "stock=pd.DataFrame(df_adj, columns=['Low', 'Close','Volume', \"'Adj Close'\"])\n",
    "M=pd.DataFrame(stock, columns=[ 'Market'])\n",
    "L=pd.DataFrame(stock, columns=[ 'Low'])\n",
    "C=pd.DataFrame(stock, columns=[ 'Close'])\n",
    "A = pd.DataFrame(stock, columns=[ \"'Adj Close'\"])\n",
    "V=pd.DataFrame(stock, columns=[ 'Volume'])"
   ]
  },
  {
   "cell_type": "code",
   "execution_count": 75,
   "metadata": {
    "collapsed": false
   },
   "outputs": [
    {
     "name": "stdout",
     "output_type": "stream",
     "text": [
      "[4 4 4 ..., 6 0 6]\n",
      "\n",
      "[[  2.71322593e+02   2.73413069e+02   5.96898280e+07   9.03766676e+01]\n",
      " [  5.34199757e+02   5.42061705e+02   1.50120235e+08   7.33593326e+01]\n",
      " [  5.27434400e+02   5.35898800e+02   2.41140032e+08   7.01593296e+01]\n",
      " [  4.70167640e+02   4.74388473e+02   9.63302833e+07   7.48010968e+01]\n",
      " [  1.08953755e+02   1.09663878e+02   3.03681233e+07   1.07587906e+02]\n",
      " [  5.25736156e+02   5.33216154e+02   1.90740828e+08   7.20025977e+01]\n",
      " [  4.00604724e+02   4.03628186e+02   7.57967604e+07   7.96867649e+01]\n",
      " [  5.08638561e+02   5.19729992e+02   3.28488100e+08   6.79523521e+01]\n",
      " [  4.89484286e+02   4.94567348e+02   1.21086308e+08   7.25959831e+01]\n",
      " [  1.78151096e+02   1.79490262e+02   4.55035311e+07   1.01780201e+02]]\n",
      "\n",
      "5.6883215684e+16\n",
      "\n",
      "15.254237288135593\n",
      "6.618240516545601\n",
      "2.017756255044391\n",
      "11.62227602905569\n",
      "19.774011299435028\n",
      "3.1476997578692494\n",
      "14.689265536723164\n",
      "0.5649717514124294\n",
      "7.909604519774011\n",
      "18.401937046004843\n"
     ]
    }
   ],
   "source": [
    "# guiding question 1 \n",
    "## K-means, 10 clusters\n",
    "start_time = time.time()\n",
    "k_1 = cluster.KMeans(n_clusters=10, random_state=0).fit(stock)\n",
    "print(k_1.labels_)\n",
    "print()\n",
    "print(k_1.cluster_centers_)\n",
    "print()\n",
    "print(k_1.inertia_)\n",
    "print ()\n",
    "cluster_percentage = [0]*10\n",
    "for i in range(10):\n",
    "    print(collections.Counter(k_1.labels_)[i]*100/1239)\n",
    "\n"
   ]
  },
  {
   "cell_type": "code",
   "execution_count": 76,
   "metadata": {
    "collapsed": false
   },
   "outputs": [],
   "source": [
    "\n",
    "df_pca = pd.DataFrame(df, columns=['Open', 'Close', 'High','Low'])\n",
    "\n",
    "df_fY_1516=pd.DataFrame(df, columns=['FY=4', 'FY=5','Open', 'Close','Volume', \"'Adj Close'\"])\n",
    "\n",
    "Y = pd.DataFrame(df, columns=[ \"'Adj Close'\"])\n",
    "#Y.head(2)\n",
    "\n",
    "Y1=pd.DataFrame(df_fY_1516, columns=[ 'FY=5'])\n",
    "Y2=pd.DataFrame(df_fY_1516, columns=[ 'FY=4'])\n",
    "#y=pd.DataFrame(df_1, columns=[ \"'Adj Close'\"])\n",
    "\n",
    "a=pd.DataFrame(df_fY_1516, columns=[ 'Low'])\n",
    "b=pd.DataFrame(df_fY_1516, columns=[ 'Close'])"
   ]
  },
  {
   "cell_type": "code",
   "execution_count": 77,
   "metadata": {
    "collapsed": false
   },
   "outputs": [
    {
     "name": "stdout",
     "output_type": "stream",
     "text": [
      "99.9999999955\n",
      "4.49610332215e-09\n",
      "7.10831589013e-12\n"
     ]
    }
   ],
   "source": [
    "from mpl_toolkits.mplot3d import Axes3D\n",
    "from sklearn.decomposition import PCA\n",
    "fig = plt.figure(1, figsize=(8, 6))\n",
    "ax = Axes3D(fig, elev=-150, azim=110)\n",
    "\n",
    "X_reduced = PCA(n_components=3).fit_transform(stock)\n",
    "\n",
    "#Use PCA not to reduce variance but to analyze it in 3 D\n",
    "pca = PCA(n_components=3)\n",
    "pca.fit(df)\n",
    "i=0\n",
    "while (i<3):\n",
    "    print (pca.explained_variance_ratio_[i] *100) \n",
    "    i=i+1\n",
    "    \n",
    "# scatterplot of the data without performing k mean clustering : it shows that only one PCA component is enough to explain \n",
    "# the total variance in the data\n",
    "\n",
    "    \n",
    "ax.scatter(X_reduced[:, 0], X_reduced[:, 1], X_reduced[:, 2],c=A,\n",
    "           cmap=plt.cm.Paired)\n",
    "\n",
    "ax.set_title(\"First three PCA directions\")\n",
    "ax.set_xlabel(\"1st eigenvector\")\n",
    "ax.w_xaxis.set_ticklabels([])\n",
    "ax.set_ylabel(\"2nd eigenvector\")\n",
    "ax.w_yaxis.set_ticklabels([])\n",
    "ax.set_zlabel(\"3rd eigenvector\")\n",
    "ax.w_zaxis.set_ticklabels([])\n",
    "\n",
    "plt.show()\n",
    "\n"
   ]
  },
  {
   "cell_type": "code",
   "execution_count": 78,
   "metadata": {
    "collapsed": false
   },
   "outputs": [
    {
     "data": {
      "text/plain": [
       "nan"
      ]
     },
     "execution_count": 78,
     "metadata": {},
     "output_type": "execute_result"
    }
   ],
   "source": [
    "Y.ix[0,\"'Adj Close'\"]"
   ]
  },
  {
   "cell_type": "code",
   "execution_count": 79,
   "metadata": {
    "collapsed": false
   },
   "outputs": [
    {
     "name": "stdout",
     "output_type": "stream",
     "text": [
      "[[ -1.83618841e+07  -7.84802889e+00]\n",
      " [  7.20685233e+07  -4.94814681e+01]\n",
      " [  1.63088320e+08   2.96275626e+02]\n",
      " [  1.82785712e+07  -1.55416257e+02]\n",
      " [ -4.76835888e+07   1.14826920e+02]\n",
      " [  1.12689116e+08   1.12978588e+02]\n",
      " [ -2.25495167e+06  -1.32047267e+02]\n",
      " [  2.50436388e+08   6.44054993e+02]\n",
      " [  4.30345961e+07  -9.18195129e+01]\n",
      " [ -3.25481810e+07   7.23577966e+01]]\n",
      "\n",
      "[4 4 4 ..., 6 0 6]\n",
      "\n",
      "5.68832156838e+16\n",
      "\n"
     ]
    }
   ],
   "source": [
    "Data_1 = PCA(n_components=2).fit_transform(stock)\n",
    "kmeans = cluster.KMeans( n_clusters=10, random_state=0)\n",
    "j=kmeans.fit(Data_1)\n",
    "\n",
    "print (j.cluster_centers_)\n",
    "print ()\n",
    "print(j.labels_)\n",
    "print()\n",
    "print(j.inertia_)\n",
    "print ()\n",
    "#print (Kmean)"
   ]
  },
  {
   "cell_type": "code",
   "execution_count": 80,
   "metadata": {
    "collapsed": false
   },
   "outputs": [],
   "source": [
    "# Plot of Principal component against Closing and lable against Adj Closing value \n",
    "import pylab as pl\n",
    "Data_1 = PCA(n_components=2).fit_transform(stock)\n",
    "pl.figure('Reference Plot')\n",
    "\n",
    "pl.scatter(Data_1[:, 0],Data_1[:,1], c=A, color=\"blue\")\n",
    "pl.show()\n"
   ]
  },
  {
   "cell_type": "code",
   "execution_count": 81,
   "metadata": {
    "collapsed": false
   },
   "outputs": [
    {
     "data": {
      "text/plain": [
       "KMeans(algorithm='auto', copy_x=True, init='k-means++', max_iter=300,\n",
       "    n_clusters=10, n_init=10, n_jobs=1, precompute_distances='auto',\n",
       "    random_state=111, tol=0.0001, verbose=0)"
      ]
     },
     "execution_count": 81,
     "metadata": {},
     "output_type": "execute_result"
    }
   ],
   "source": [
    "kmeans = cluster.KMeans(n_clusters=10, random_state=111)\n",
    "kmeans.fit(stock)"
   ]
  },
  {
   "cell_type": "code",
   "execution_count": 82,
   "metadata": {
    "collapsed": true
   },
   "outputs": [],
   "source": [
    "for i in range(0, Data_1.shape[0]):\n",
    "    if (kmeans.labels_[i] == 0):\n",
    "        c1 = pl.scatter(Data_1[i,0],Data_1[i,1],c='r')\n",
    "    elif (kmeans.labels_[i] == 1):\n",
    "        c2 = pl.scatter(Data_1[i,0], Data_1[i,1],c='g')\n",
    "    elif (kmeans.labels_[i] ==2) :\n",
    "        c3 = pl.scatter(Data_1[i,0],Data_1[i,1],c='b')\n",
    "    elif (kmeans.labels_[i]==3) :\n",
    "        c4 = pl.scatter(Data_1[i,0],Data_1[i,1],c='black')\n",
    "    elif (kmeans.labels_[i] == 4):\n",
    "        c5 = pl.scatter(Data_1[i,0],Data_1[i,1],c='orange')\n",
    "    elif (kmeans.labels_[i] ==5) :\n",
    "        c6 = pl.scatter(Data_1[i,0],Data_1[i,1],c='grey')\n",
    "    elif (kmeans.labels_[i]==6) :\n",
    "        c7 = pl.scatter(Data_1[i,0],Data_1[i,1],c='violet')\n",
    "    elif (kmeans.labels_[i] == 7) :\n",
    "        c8= pl.scatter(Data_1[i,0],Data_1[i,1],c='brown')\n",
    "    elif (kmeans.labels_[i] == 8) :\n",
    "        c9= pl.scatter(Data_1[i,0],Data_1[i,1],c='pink')\n",
    "    elif (kmeans.labels_[i] == 9) :\n",
    "        c10= pl.scatter(Data_1[i,0],Data_1[i,1],c='darkgreen')\n",
    "   \n",
    "        \n",
    "pl.legend([c1, c2, c3,c4,c5,c6,c7,c8,c9,c10],['Cluster 1', 'Cluster 2','Cluster 3','Cluster 4', 'Cluster 5','Cluster 6','Cluster 7','Cluster 8', 'Cluster 9', 'Cluster 10'])\n",
    "pl.title('K-means 10 clusters ')\n",
    "pl.show()"
   ]
  },
  {
   "cell_type": "code",
   "execution_count": 83,
   "metadata": {
    "collapsed": false
   },
   "outputs": [],
   "source": [
    "for i in range(0, Data_1.shape[0]):\n",
    "    if (kmeans.labels_[i] == 0):\n",
    "        c1 = pl.scatter(Data_1[i,0],A.ix[i,\"'Adj Close'\"],c='r')\n",
    "    elif (kmeans.labels_[i] == 1):\n",
    "        c2 = pl.scatter(Data_1[i,0], A.ix[i,\"'Adj Close'\"],c='g')\n",
    "    elif (kmeans.labels_[i] ==2) :\n",
    "        c3 = pl.scatter(Data_1[i,0],A.ix[i,\"'Adj Close'\"],c='b')\n",
    "    elif (kmeans.labels_[i]==3) :\n",
    "        c4 = pl.scatter(Data_1[i,0],A.ix[i,\"'Adj Close'\"],c='black')\n",
    "    elif (kmeans.labels_[i] == 4):\n",
    "        c5 = pl.scatter(Data_1[i,0],A.ix[i,\"'Adj Close'\"],c='orange')\n",
    "    elif (kmeans.labels_[i] ==5) :\n",
    "        c6 = pl.scatter(Data_1[i,0],A.ix[i,\"'Adj Close'\"],c='grey')\n",
    "    elif (kmeans.labels_[i]==6) :\n",
    "        c7 = pl.scatter(Data_1[i,0],A.ix[i,\"'Adj Close'\"],c='violet')\n",
    "    elif (kmeans.labels_[i] == 7) :\n",
    "        c8= pl.scatter(Data_1[i,0],A.ix[i,\"'Adj Close'\"],c='brown')\n",
    "    elif (kmeans.labels_[i] == 8) :\n",
    "        c9= pl.scatter(Data_1[i,0],A.ix[i,\"'Adj Close'\"],c='pink')\n",
    "    elif (kmeans.labels_[i] == 9) :\n",
    "        c10= pl.scatter(Data_1[i,0],A.ix[i,\"'Adj Close'\"],c='darkgreen')\n",
    "   \n",
    "        \n",
    "pl.legend([c1, c2, c3,c4,c5,c6,c7,c8,c9,c10],['Cluster 1', 'Cluster 2','Cluster 3','Cluster 4', 'Cluster 5','Cluster 6','Cluster 7','Cluster 8', 'Cluster 9', 'Cluster 10'])\n",
    "pl.title('K-means 10 clusters ')\n",
    "pl.show()"
   ]
  },
  {
   "cell_type": "code",
   "execution_count": 84,
   "metadata": {
    "collapsed": true
   },
   "outputs": [],
   "source": [
    "for i in range(0, Data_1.shape[0]):\n",
    "    if (kmeans.labels_[i] == 0):\n",
    "        c1 = pl.scatter(Data_1[i,0],C.ix[i,'Close'],c='r')\n",
    "    elif (kmeans.labels_[i] == 1):\n",
    "        c2 = pl.scatter(Data_1[i,0], C.ix[i,'Close'],c='g')\n",
    "    elif (kmeans.labels_[i] ==2) :\n",
    "        c3 = pl.scatter(Data_1[i,0],C.ix[i,'Close'],c='b')\n",
    "    elif (kmeans.labels_[i]==3) :\n",
    "        c4 = pl.scatter(Data_1[i,0],C.ix[i,'Close'],c='black')\n",
    "    elif (kmeans.labels_[i] == 4):\n",
    "        c5 = pl.scatter(Data_1[i,0],C.ix[i,'Close'],c='orange')\n",
    "    elif (kmeans.labels_[i] ==5) :\n",
    "        c6 = pl.scatter(Data_1[i,0],C.ix[i,'Close'],c='grey')\n",
    "    elif (kmeans.labels_[i]==6) :\n",
    "        c7 = pl.scatter(Data_1[i,0],C.ix[i,'Close'],c='violet')\n",
    "    elif (kmeans.labels_[i] == 7) :\n",
    "        c8= pl.scatter(Data_1[i,0],C.ix[i,'Close'],c='yellow')\n",
    "    elif (kmeans.labels_[i] == 8) :\n",
    "        c9= pl.scatter(Data_1[i,0],C.ix[i,'Close'],c='pink')\n",
    "    elif (kmeans.labels_[i] == 9) :\n",
    "        c10= pl.scatter(Data_1[i,0],C.ix[i,'Close'],c='darkgreen')\n",
    "   \n",
    "        \n",
    "pl.legend([c1, c2, c3,c4,c5,c6,c7,c8,c9,c10],['Cluster 1', 'Cluster 2','Cluster 3','Cluster 4', 'Cluster 5','Cluster 6','Cluster 7','Cluster 8', 'Cluster 9', 'Cluster 10'])\n",
    "pl.title('K-means clusters the Iris dataset into 8    clusters')\n",
    "pl.show()   \n",
    "\n"
   ]
  },
  {
   "cell_type": "code",
   "execution_count": 85,
   "metadata": {
    "collapsed": true
   },
   "outputs": [],
   "source": [
    "for i in range(0, Data_1.shape[0]):\n",
    "    if (kmeans.labels_[i] == 0):\n",
    "        c1 = pl.scatter(V.ix[i,'Volume'],Y.ix[i,\"'Adj Close'\"],c='r')\n",
    "    elif (kmeans.labels_[i] == 1):\n",
    "        c2 = pl.scatter( V.ix[i,'Volume'],Y.ix[i,\"'Adj Close'\"],c='g')\n",
    "    elif (kmeans.labels_[i] ==2) :\n",
    "        c3 = pl.scatter(V.ix[i,'Volume'],Y.ix[i,\"'Adj Close'\"],c='b')\n",
    "    elif (kmeans.labels_[i]==3) :\n",
    "        c4 = pl.scatter(V.ix[i,'Volume'],Y.ix[i,\"'Adj Close'\"],c='black')\n",
    "    elif (kmeans.labels_[i] == 4):\n",
    "        c5 = pl.scatter(V.ix[i,'Volume'],Y.ix[i,\"'Adj Close'\"],c='orange')\n",
    "    elif (kmeans.labels_[i] ==5) :\n",
    "        c6 = pl.scatter(V.ix[i,'Volume'],Y.ix[i,\"'Adj Close'\"],c='grey')\n",
    "    elif (kmeans.labels_[i]==6) :\n",
    "        c7 = pl.scatter(V.ix[i,'Volume'],Y.ix[i,\"'Adj Close'\"],c='violet')\n",
    "    elif (kmeans.labels_[i] == 7) :\n",
    "        c8= pl.scatter(V.ix[i,'Volume'],Y.ix[i,\"'Adj Close'\"],c='yellow')\n",
    "    elif (kmeans.labels_[i] == 8) :\n",
    "        c9= pl.scatter(V.ix[i,'Volume'],A.ix[i,\"'Adj Close'\"],c='pink')\n",
    "    elif (kmeans.labels_[i] == 9) :\n",
    "        c10= pl.scatter(V.ix[i,'Volume'],A.ix[i,\"'Adj Close'\"],c='darkgreen')\n",
    "   \n",
    "        \n",
    "pl.legend([c1, c2, c3,c4,c5,c6,c7,c8,c9,c10],['Cluster 1', 'Cluster 2','Cluster 3','Cluster 4', 'Cluster 5','Cluster 6','Cluster 7','Cluster 8', 'Cluster 9', 'Cluster 10'])\n",
    "pl.title('K-means clusters the Iris dataset into 8    clusters')\n",
    "pl.show()   \n",
    "\n"
   ]
  },
  {
   "cell_type": "code",
   "execution_count": null,
   "metadata": {
    "collapsed": true
   },
   "outputs": [],
   "source": []
  },
  {
   "cell_type": "code",
   "execution_count": 86,
   "metadata": {
    "collapsed": true
   },
   "outputs": [],
   "source": [
    "import pylab as pl\n",
    "Data_1 = PCA(n_components=3).fit_transform(stock)\n",
    "\n",
    "fig = plt.figure(1, figsize=(8, 6))\n",
    "ax = Axes3D(fig, elev=-150, azim=110)\n",
    "    \n",
    "ax.scatter(Data_1[:, 0], Data_1[:, 1], Data_1[:, 2],c=A,\n",
    "           cmap=plt.cm.Paired)\n",
    "\n",
    "ax.set_title(\"First three PCA directions\")\n",
    "ax.set_xlabel(\"1st eigenvector\")\n",
    "ax.w_xaxis.set_ticklabels([])\n",
    "ax.set_ylabel(\"2nd eigenvector\")\n",
    "ax.w_yaxis.set_ticklabels([])\n",
    "ax.set_zlabel(\"3rd eigenvector\")\n",
    "ax.w_zaxis.set_ticklabels([])\n",
    "\n",
    "plt.show()\n",
    "\n",
    "\n",
    "\n",
    "\n",
    "\n"
   ]
  },
  {
   "cell_type": "code",
   "execution_count": 87,
   "metadata": {
    "collapsed": false
   },
   "outputs": [
    {
     "name": "stdout",
     "output_type": "stream",
     "text": [
      "5.810653924942017\n"
     ]
    }
   ],
   "source": [
    "start_time = time.time()\n",
    "kmeans = cluster.KMeans(n_clusters=10)\n",
    "kmeans.fit(stock)\n",
    "Dat= PCA(n_components=1).fit_transform(stock)\n",
    "pl.figure('K-means with 10 clusters')\n",
    "fig = plt.figure(1, figsize=(8, 6))\n",
    "ax = Axes3D(fig, elev=-150, azim=110)\n",
    "ax.scatter(C.ix[:,'Close'], A.ix[:,\"'Adj Close'\"], Dat[:, 0],c=kmeans.labels_, cmap=plt.cm.Paired)\n",
    "\n",
    "plt.show()\n",
    "load_time_h_1 = time.time() - start_time\n",
    "print (load_time_h_1)"
   ]
  },
  {
   "cell_type": "code",
   "execution_count": 88,
   "metadata": {
    "collapsed": false
   },
   "outputs": [
    {
     "data": {
      "text/plain": [
       "7520.9466875050011"
      ]
     },
     "execution_count": 88,
     "metadata": {},
     "output_type": "execute_result"
    }
   ],
   "source": [
    "from sklearn import metrics\n",
    "metrics.calinski_harabaz_score(stock, kmeans.labels_)  "
   ]
  },
  {
   "cell_type": "markdown",
   "metadata": {
    "collapsed": false
   },
   "source": [
    "# Hierarchy Clustering "
   ]
  },
  {
   "cell_type": "code",
   "execution_count": 89,
   "metadata": {
    "collapsed": false
   },
   "outputs": [
    {
     "name": "stdout",
     "output_type": "stream",
     "text": [
      "3.835700035095215\n"
     ]
    }
   ],
   "source": [
    "from scipy.cluster import hierarchy\n",
    "from scipy.spatial import distance\n",
    "start_time = time.time()\n",
    "fig = plt.figure(figsize=(8,5))\n",
    "Y = distance.pdist(stock)\n",
    "Z = hierarchy.linkage(Y, method = \"centroid\", metric = \"cosine\")\n",
    "T = hierarchy.fcluster(Z, 10, criterion = \"maxclust\",depth=10)\n",
    "plt.title('Hierarchical Clustering Dendrogram ',fontsize=15)\n",
    "plt.xlabel('sample index or (cluster size)',fontsize=10)\n",
    "plt.ylabel('distance',fontsize=10)\n",
    "hierarchy.dendrogram(Z,4,truncate_mode='level',orientation='top',show_contracted=True)\n",
    "plt.show()\n",
    "load_time_h_1 = time.time() - start_time\n",
    "print (load_time_h_1)"
   ]
  },
  {
   "cell_type": "code",
   "execution_count": 90,
   "metadata": {
    "collapsed": true
   },
   "outputs": [],
   "source": [
    "plt.figure(figsize=(10, 8))\n",
    "plt.scatter(stock.ix[:,'Close'], stock.ix[:,\"'Adj Close'\"], c=T, cmap='prism')  # plot points with cluster dependent colors\n",
    "plt.show()"
   ]
  },
  {
   "cell_type": "code",
   "execution_count": 91,
   "metadata": {
    "collapsed": true
   },
   "outputs": [],
   "source": [
    "#ward euc\n",
    "#centroid euc\n"
   ]
  },
  {
   "cell_type": "code",
   "execution_count": 92,
   "metadata": {
    "collapsed": false
   },
   "outputs": [],
   "source": [
    "from scipy.cluster import hierarchy\n",
    "from scipy.spatial import distance\n",
    "Y = distance.pdist(df)\n",
    "Z = hierarchy.linkage(Y, method = \"centroid\", metric = \"euclidean\")\n",
    "T = hierarchy.fcluster(Z, 7, criterion = \"maxclust\")\n",
    "hierarchy.dendrogram(Z)\n",
    "plt.show()"
   ]
  },
  {
   "cell_type": "code",
   "execution_count": 93,
   "metadata": {
    "collapsed": false
   },
   "outputs": [],
   "source": [
    "hierarchy.dendrogram(\n",
    "    Z,\n",
    "    truncate_mode='lastp',  # show only the last p merged clusters\n",
    "    p=20,  # show only the last p merged clusters\n",
    "    show_leaf_counts=False,  # otherwise numbers in brackets are counts\n",
    "    leaf_rotation=90.,\n",
    "    leaf_font_size=12.,\n",
    "    show_contracted=True,  # to get a distribution impression in truncated branches\n",
    ")\n",
    "plt.show()"
   ]
  },
  {
   "cell_type": "code",
   "execution_count": null,
   "metadata": {
    "collapsed": true
   },
   "outputs": [],
   "source": []
  }
 ],
 "metadata": {
  "anaconda-cloud": {},
  "kernelspec": {
   "display_name": "Python [Root]",
   "language": "python",
   "name": "Python [Root]"
  },
  "language_info": {
   "codemirror_mode": {
    "name": "ipython",
    "version": 3
   },
   "file_extension": ".py",
   "mimetype": "text/x-python",
   "name": "python",
   "nbconvert_exporter": "python",
   "pygments_lexer": "ipython3",
   "version": "3.5.2"
  }
 },
 "nbformat": 4,
 "nbformat_minor": 0
}
